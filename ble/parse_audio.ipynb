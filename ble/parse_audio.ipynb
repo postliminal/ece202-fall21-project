{
 "cells": [
  {
   "cell_type": "code",
   "execution_count": 2,
   "id": "b51db1c6-8b61-4fc2-a890-909abcb7ec0e",
   "metadata": {},
   "outputs": [],
   "source": [
    "import wave\n",
    "import struct\n",
    "import sys\n",
    "import csv\n",
    "import numpy \n",
    "from scipy.io import wavfile\n",
    "from scipy.signal import resample"
   ]
  },
  {
   "cell_type": "code",
   "execution_count": 56,
   "id": "31f69a44-b98e-431e-98e6-bd7e42fff854",
   "metadata": {
    "tags": []
   },
   "outputs": [
    {
     "name": "stdout",
     "output_type": "stream",
     "text": [
      "['1171' '256' '13288' ... '13300' '426' '1157']\n"
     ]
    }
   ],
   "source": [
    "# fname = 'microphone_dump.csv'\n",
    "fname = '../audio1.csv'\n",
    "outfile = 'output.wav'\n",
    "\n",
    "data = []\n",
    "with open(fname, newline='') as csvfile:\n",
    "    spamreader = csv.reader(csvfile, delimiter = ',')\n",
    "\n",
    "    for row in spamreader:\n",
    "        data.append(row[-2])\n",
    "data = data[1:]\n",
    "npdata = numpy.array(data)\n",
    "print(npdata)"
   ]
  },
  {
   "cell_type": "code",
   "execution_count": null,
   "id": "97701fec-e875-4bb3-8c6f-f7582f4bd927",
   "metadata": {},
   "outputs": [],
   "source": [
    "# 16khz sampling rate\n",
    "#data is in int16\n"
   ]
  },
  {
   "cell_type": "code",
   "execution_count": 59,
   "id": "5061c607-57e9-4e0e-a98c-2d4506618831",
   "metadata": {},
   "outputs": [],
   "source": [
    "wavfile.write(outfile, 16000, npdata.astype(numpy.int16))"
   ]
  },
  {
   "cell_type": "code",
   "execution_count": 64,
   "id": "b2356a43-bdab-4b76-92e4-de744d06a898",
   "metadata": {},
   "outputs": [],
   "source": [
    "intdata =  npdata.astype(numpy.int16)"
   ]
  },
  {
   "cell_type": "code",
   "execution_count": 60,
   "id": "abfea2b6-fefb-415d-81c6-e66c0e6c0d98",
   "metadata": {},
   "outputs": [
    {
     "name": "stdout",
     "output_type": "stream",
     "text": [
      "max: 30368\n",
      "min: -27474\n",
      "len: 14336\n"
     ]
    }
   ],
   "source": [
    "print(\"max: {}\".format(max(intdata) ))\n",
    "print(\"min: {}\".format(min(intdata) ))\n",
    "print(\"len: {}\".format(len(intdata) ))"
   ]
  },
  {
   "cell_type": "code",
   "execution_count": 62,
   "id": "2e540c69-1359-4b95-a90a-967b10d41f52",
   "metadata": {},
   "outputs": [
    {
     "data": {
      "image/png": "[encoded data removed]",
      "text/plain": [
       "<Figure size 432x288 with 1 Axes>"
      ]
     },
     "metadata": {
      "needs_background": "light"
     },
     "output_type": "display_data"
    }
   ],
   "source": [
    "import matplotlib.pyplot as plt\n",
    "plt.figure(1)\n",
    "plt.title(\"audio wave\")\n",
    "plt.plot(intdata)\n",
    "plt.show()"
   ]
  },
  {
   "cell_type": "code",
   "execution_count": 66,
   "id": "09d6df07-7d74-4ab5-9384-71f3c61f4e79",
   "metadata": {},
   "outputs": [],
   "source": [
    "udata = npdata.astype(numpy.uint16)"
   ]
  },
  {
   "cell_type": "code",
   "execution_count": 67,
   "id": "7cf72d17-9d05-4320-8626-bc2d1b7390c1",
   "metadata": {},
   "outputs": [
    {
     "data": {
      "text/plain": [
       "array([ 1171,   256, 13288, ..., 13300,   426,  1157], dtype=uint16)"
      ]
     },
     "execution_count": 67,
     "metadata": {},
     "output_type": "execute_result"
    }
   ],
   "source": []
  },
  {
   "cell_type": "code",
   "execution_count": 68,
   "id": "0d14c366-e550-4cc6-935e-6fe219501a4f",
   "metadata": {},
   "outputs": [],
   "source": [
    "newdata = udata.astype(numpy.int16)"
   ]
  },
  {
   "cell_type": "code",
   "execution_count": 69,
   "id": "43db2c10-2e95-41aa-97a3-8981ab1f31d7",
   "metadata": {},
   "outputs": [
    {
     "data": {
      "text/plain": [
       "array([ 1171,   256, 13288, ..., 13300,   426,  1157], dtype=int16)"
      ]
     },
     "execution_count": 69,
     "metadata": {},
     "output_type": "execute_result"
    }
   ],
   "source": [
    "newdata"
   ]
  },
  {
   "cell_type": "code",
   "execution_count": null,
   "id": "0e792c5a-187e-46aa-966e-9dd580aee30f",
   "metadata": {},
   "outputs": [],
   "source": []
  }
 ],
 "metadata": {
  "kernelspec": {
   "display_name": "Python 3",
   "language": "python",
   "name": "python3"
  },
  "language_info": {
   "codemirror_mode": {
    "name": "ipython",
    "version": 3
   },
   "file_extension": ".py",
   "mimetype": "text/x-python",
   "name": "python",
   "nbconvert_exporter": "python",
   "pygments_lexer": "ipython3",
   "version": "3.8.5"
  }
 },
 "nbformat": 4,
 "nbformat_minor": 5
}
