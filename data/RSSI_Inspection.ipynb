{
 "cells": [
  {
   "cell_type": "code",
   "execution_count": 1,
   "id": "0136bc93",
   "metadata": {},
   "outputs": [],
   "source": [
    "import pandas as pd\n",
    "import numpy as np"
   ]
  },
  {
   "cell_type": "code",
   "execution_count": 2,
   "id": "b92507c9",
   "metadata": {},
   "outputs": [],
   "source": [
    "df1 = pd.read_csv(r'/Users/edwincalderon/Desktop/M202A/open_thread_processed_data/logfile_ot_1m_process.csv')\n",
    "df2 = pd.read_csv(r'/Users/edwincalderon/Desktop/M202A/open_thread_processed_data/logfile_ot_2m_process.csv')\n",
    "df3 = pd.read_csv(r'/Users/edwincalderon/Desktop/M202A/open_thread_processed_data/logfile_ot_3m_process.csv')"
   ]
  },
  {
   "cell_type": "code",
   "execution_count": 3,
   "id": "235f11a6",
   "metadata": {},
   "outputs": [
    {
     "name": "stdout",
     "output_type": "stream",
     "text": [
      "-68\n"
     ]
    },
    {
     "data": {
      "text/plain": [
       "array([  0, -66, -63, -64, -55, -65, -62, -57, -68, -67])"
      ]
     },
     "execution_count": 3,
     "metadata": {},
     "output_type": "execute_result"
    }
   ],
   "source": [
    "print(min(df1['RSSI (dBm)'].unique()))\n",
    "df1['RSSI (dBm)'].unique()"
   ]
  },
  {
   "cell_type": "code",
   "execution_count": 4,
   "id": "82d1144f",
   "metadata": {},
   "outputs": [
    {
     "name": "stdout",
     "output_type": "stream",
     "text": [
      "-55\n"
     ]
    },
    {
     "data": {
      "text/plain": [
       "array(['0', 'rssi', '-61', '-56', '-55'], dtype=object)"
      ]
     },
     "execution_count": 4,
     "metadata": {},
     "output_type": "execute_result"
    }
   ],
   "source": [
    "print(min(df2['RSSI (dBm)'].unique()))\n",
    "df2['RSSI (dBm)'].unique()"
   ]
  },
  {
   "cell_type": "code",
   "execution_count": 5,
   "id": "eb079495",
   "metadata": {},
   "outputs": [
    {
     "name": "stdout",
     "output_type": "stream",
     "text": [
      "-65\n"
     ]
    },
    {
     "data": {
      "text/plain": [
       "array(['0', '0:', '-76', '-66', '-77', '-65', '-78', '-67', '-79'],\n",
       "      dtype=object)"
      ]
     },
     "execution_count": 5,
     "metadata": {},
     "output_type": "execute_result"
    }
   ],
   "source": [
    "print(min(df3['RSSI (dBm)'].unique()))\n",
    "df3['RSSI (dBm)'].unique()"
   ]
  },
  {
   "cell_type": "code",
   "execution_count": 6,
   "id": "bd60463e",
   "metadata": {},
   "outputs": [],
   "source": [
    "df1_ = pd.read_csv(r'/Users/edwincalderon/Desktop/M202A/ble_processed_data/logfile_1m_process.csv')\n",
    "df2_ = pd.read_csv(r'/Users/edwincalderon/Desktop/M202A/ble_processed_data/logfile_2m_process.csv')\n",
    "df3_ = pd.read_csv(r'/Users/edwincalderon/Desktop/M202A/ble_processed_data/logfile_3m_process.csv')"
   ]
  },
  {
   "cell_type": "code",
   "execution_count": 7,
   "id": "c7b75138",
   "metadata": {},
   "outputs": [
    {
     "name": "stdout",
     "output_type": "stream",
     "text": [
      "-68.75\n"
     ]
    },
    {
     "data": {
      "text/plain": [
       "array([-13.25, -15.  , -26.25, -26.5 , -44.5 , -39.25, -38.75, -52.25,\n",
       "       -51.25, -59.  , -51.5 , -61.75, -50.5 , -51.75, -52.5 , -65.  ,\n",
       "       -50.  , -65.25, -49.75, -62.  , -49.  , -50.75, -52.  , -65.5 ,\n",
       "       -53.5 , -66.  , -62.5 , -52.75, -54.25, -54.  , -61.25, -53.  ,\n",
       "       -63.75, -55.  , -64.5 , -53.75, -54.5 , -55.5 , -56.  , -64.75,\n",
       "       -57.75, -59.25, -62.25, -57.25, -58.  , -58.5 , -56.25, -56.75,\n",
       "       -60.5 , -57.5 , -55.75, -58.75, -58.25, -57.  , -61.5 , -62.75,\n",
       "       -56.5 , -59.5 , -66.25, -59.75, -68.25, -64.25, -55.25, -61.  ,\n",
       "       -54.75, -66.5 , -67.5 , -64.  , -63.  , -68.5 , -65.75, -67.  ,\n",
       "       -67.25, -63.25, -60.  , -66.75, -60.25, -68.75, -67.75, -63.5 ,\n",
       "       -60.75])"
      ]
     },
     "execution_count": 7,
     "metadata": {},
     "output_type": "execute_result"
    }
   ],
   "source": [
    "print(min(df1_['Measurement'].dropna().unique()))\n",
    "df1_['Measurement'].dropna().unique()"
   ]
  },
  {
   "cell_type": "code",
   "execution_count": 8,
   "id": "f5f8284a",
   "metadata": {},
   "outputs": [
    {
     "name": "stdout",
     "output_type": "stream",
     "text": [
      "-68.75\n"
     ]
    },
    {
     "data": {
      "text/plain": [
       "array([  0.  , -14.75, -17.25, -28.5 , -17.5 , -33.25, -34.25, -50.25,\n",
       "       -66.25, -51.  , -65.5 , -45.  , -66.75, -65.75, -60.25, -64.5 ,\n",
       "       -61.  , -65.25, -60.75, -67.25, -68.5 , -61.75, -61.5 , -66.5 ,\n",
       "       -67.5 , -68.  , -59.  , -66.  , -59.25, -57.75, -67.75, -60.5 ,\n",
       "       -67.  , -63.  , -65.  , -62.  , -63.75, -61.25, -59.5 , -59.75,\n",
       "       -57.  , -57.5 , -60.  , -62.25, -64.  , -58.5 , -62.75, -64.25,\n",
       "       -62.5 , -64.75, -68.75, -63.25, -68.25, -63.5 , -58.75])"
      ]
     },
     "execution_count": 8,
     "metadata": {},
     "output_type": "execute_result"
    }
   ],
   "source": [
    "print(min(df2_['Measurement'].dropna().unique()))\n",
    "df2_['Measurement'].dropna().unique()"
   ]
  },
  {
   "cell_type": "code",
   "execution_count": 9,
   "id": "8a3880ac",
   "metadata": {},
   "outputs": [
    {
     "name": "stdout",
     "output_type": "stream",
     "text": [
      "-84.5\n"
     ]
    },
    {
     "data": {
      "text/plain": [
       "array([  0.  , -17.25, -33.75, -17.75, -19.75, -50.5 , -37.25, -66.75,\n",
       "       -57.  , -74.25, -65.5 , -35.75, -53.5 , -74.5 , -66.  , -65.75,\n",
       "       -76.5 , -75.25, -74.  , -66.25, -73.5 , -74.75, -67.  , -68.  ,\n",
       "       -71.25, -70.25, -73.  , -67.5 , -75.5 , -75.75, -80.  , -78.25,\n",
       "       -65.  , -76.25, -75.  , -73.25, -67.25, -79.5 , -79.75, -84.25,\n",
       "       -73.75, -80.25, -76.  , -65.25, -64.75, -76.75, -78.75, -77.25,\n",
       "       -66.5 , -71.  , -77.5 , -72.75, -72.5 , -71.5 , -80.5 , -67.75,\n",
       "       -68.25, -72.  , -77.75, -77.  , -71.75, -68.5 , -79.  , -72.25,\n",
       "       -81.  , -68.75, -69.  , -78.  , -81.25, -83.25, -78.5 , -69.25,\n",
       "       -79.25, -82.  , -80.75, -82.5 , -69.75, -82.75, -70.75, -70.  ,\n",
       "       -83.  , -84.5 , -81.75, -81.5 , -69.5 , -83.75])"
      ]
     },
     "execution_count": 9,
     "metadata": {},
     "output_type": "execute_result"
    }
   ],
   "source": [
    "print(min(df3_['Measurement'].dropna().unique()))\n",
    "df3_['Measurement'].dropna().unique()"
   ]
  },
  {
   "cell_type": "code",
   "execution_count": null,
   "id": "1b0e3a17",
   "metadata": {},
   "outputs": [],
   "source": []
  }
 ],
 "metadata": {
  "kernelspec": {
   "display_name": "Python 3 (ipykernel)",
   "language": "python",
   "name": "python3"
  },
  "language_info": {
   "codemirror_mode": {
    "name": "ipython",
    "version": 3
   },
   "file_extension": ".py",
   "mimetype": "text/x-python",
   "name": "python",
   "nbconvert_exporter": "python",
   "pygments_lexer": "ipython3",
   "version": "3.9.7"
  }
 },
 "nbformat": 4,
 "nbformat_minor": 5
}
