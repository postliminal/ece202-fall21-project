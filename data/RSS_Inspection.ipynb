{
 "cells": [
  {
   "cell_type": "code",
   "execution_count": 90,
   "id": "0136bc93",
   "metadata": {},
   "outputs": [],
   "source": [
    "import pandas as pd\n",
    "import numpy as np\n",
    "import matplotlib.pyplot as plt\n",
    "import seaborn as sns\n",
    "sns.set_theme(style=\"darkgrid\")"
   ]
  },
  {
   "cell_type": "code",
   "execution_count": 91,
   "id": "b92507c9",
   "metadata": {},
   "outputs": [],
   "source": [
    "df1 = pd.read_csv(r'/Users/edwincalderon/Desktop/M202A/open_thread_processed_data/logfile_ot_1m_process.csv')\n",
    "df2 = pd.read_csv(r'/Users/edwincalderon/Desktop/M202A/open_thread_processed_data/logfile_ot_2m_process.csv')\n",
    "df3 = pd.read_csv(r'/Users/edwincalderon/Desktop/M202A/open_thread_processed_data/logfile_ot_3m_process.csv')"
   ]
  },
  {
   "cell_type": "code",
   "execution_count": 92,
   "id": "235f11a6",
   "metadata": {},
   "outputs": [
    {
     "name": "stdout",
     "output_type": "stream",
     "text": [
      "-68\n"
     ]
    },
    {
     "data": {
      "text/plain": [
       "array([  0, -66, -63, -64, -55, -65, -62, -57, -68, -67])"
      ]
     },
     "execution_count": 92,
     "metadata": {},
     "output_type": "execute_result"
    }
   ],
   "source": [
    "print(min(df1['RSSI (dBm)'].unique()))\n",
    "df1['RSSI (dBm)'].unique()"
   ]
  },
  {
   "cell_type": "code",
   "execution_count": 93,
   "id": "82d1144f",
   "metadata": {},
   "outputs": [
    {
     "name": "stdout",
     "output_type": "stream",
     "text": [
      "-55\n"
     ]
    },
    {
     "data": {
      "text/plain": [
       "array(['0', 'rssi', '-61', '-56', '-55'], dtype=object)"
      ]
     },
     "execution_count": 93,
     "metadata": {},
     "output_type": "execute_result"
    }
   ],
   "source": [
    "print(min(df2['RSSI (dBm)'].unique()))\n",
    "df2['RSSI (dBm)'].unique()"
   ]
  },
  {
   "cell_type": "code",
   "execution_count": 94,
   "id": "eb079495",
   "metadata": {},
   "outputs": [
    {
     "name": "stdout",
     "output_type": "stream",
     "text": [
      "-65\n"
     ]
    },
    {
     "data": {
      "text/plain": [
       "array(['0', '0:', '-76', '-66', '-77', '-65', '-78', '-67', '-79'],\n",
       "      dtype=object)"
      ]
     },
     "execution_count": 94,
     "metadata": {},
     "output_type": "execute_result"
    }
   ],
   "source": [
    "print(min(df3['RSSI (dBm)'].unique()))\n",
    "df3['RSSI (dBm)'].unique()"
   ]
  },
  {
   "cell_type": "code",
   "execution_count": 95,
   "id": "f837f782",
   "metadata": {},
   "outputs": [
    {
     "name": "stdout",
     "output_type": "stream",
     "text": [
      "For 1 meters\n",
      "count    9663.000000\n",
      "mean      -32.948153\n",
      "std        32.123724\n",
      "min       -68.000000\n",
      "25%       -66.000000\n",
      "50%       -55.000000\n",
      "75%         0.000000\n",
      "max         0.000000\n",
      "Name: RSSI (dBm), dtype: float64\n",
      "For 2 meters\n",
      "count     5249\n",
      "unique       5\n",
      "top          0\n",
      "freq      2262\n",
      "Name: RSSI (dBm), dtype: object\n",
      "For 3 meters\n",
      "count     5706\n",
      "unique       9\n",
      "top          0\n",
      "freq      2757\n",
      "Name: RSSI (dBm), dtype: object\n"
     ]
    }
   ],
   "source": [
    "print('For 1 meters')\n",
    "print(df1['RSSI (dBm)'].dropna().describe())\n",
    "print('For 2 meters')\n",
    "print(df2['RSSI (dBm)'].dropna().describe())\n",
    "print('For 3 meters')\n",
    "print(df3['RSSI (dBm)'].dropna().describe())"
   ]
  },
  {
   "cell_type": "code",
   "execution_count": 96,
   "id": "08ae2257",
   "metadata": {},
   "outputs": [
    {
     "name": "stdout",
     "output_type": "stream",
     "text": [
      " 0     4681\n",
      "-66    1494\n",
      "-68    1386\n",
      "-55    1026\n",
      "-63     417\n",
      "-67     231\n",
      "-64     168\n",
      "-65     162\n",
      "-62      96\n",
      "-57       2\n",
      "Name: RSSI (dBm), dtype: int64\n"
     ]
    },
    {
     "data": {
      "text/plain": [
       "Text(0.5, 1.0, 'For 1 meter - OpenThread RSS')"
      ]
     },
     "execution_count": 96,
     "metadata": {},
     "output_type": "execute_result"
    },
    {
     "data": {
      "image/png": "[encoded data removed]",
      "text/plain": [
       "<Figure size 432x288 with 1 Axes>"
      ]
     },
     "metadata": {},
     "output_type": "display_data"
    }
   ],
   "source": [
    "print(df1['RSSI (dBm)'].value_counts())\n",
    "df1['RSSI (dBm)'].value_counts().plot.bar()\n",
    "\n",
    "plt.title('For 1 meter - OpenThread RSS')"
   ]
  },
  {
   "cell_type": "code",
   "execution_count": 97,
   "id": "50445810",
   "metadata": {},
   "outputs": [
    {
     "name": "stdout",
     "output_type": "stream",
     "text": [
      "0       2262\n",
      "-56     1427\n",
      "-61      901\n",
      "-55      658\n",
      "rssi       1\n",
      "Name: RSSI (dBm), dtype: int64\n"
     ]
    },
    {
     "data": {
      "text/plain": [
       "Text(0.5, 1.0, 'For 2 meter - OpenThread RSS')"
      ]
     },
     "execution_count": 97,
     "metadata": {},
     "output_type": "execute_result"
    },
    {
     "data": {
      "image/png": "[encoded data removed]",
      "text/plain": [
       "<Figure size 432x288 with 1 Axes>"
      ]
     },
     "metadata": {},
     "output_type": "display_data"
    }
   ],
   "source": [
    "print(df2['RSSI (dBm)'].value_counts())\n",
    "df2['RSSI (dBm)'].value_counts().plot.bar()\n",
    "plt.title('For 2 meter - OpenThread RSS')"
   ]
  },
  {
   "cell_type": "code",
   "execution_count": 98,
   "id": "a4f49074",
   "metadata": {},
   "outputs": [
    {
     "name": "stdout",
     "output_type": "stream",
     "text": [
      "0      2757\n",
      "-66    1625\n",
      "-78     564\n",
      "-77     488\n",
      "-76     160\n",
      "-79      54\n",
      "-65      49\n",
      "-67       8\n",
      "0:        1\n",
      "Name: RSSI (dBm), dtype: int64\n"
     ]
    },
    {
     "data": {
      "text/plain": [
       "Text(0.5, 1.0, 'For 3 meter - OpenThread - RSS')"
      ]
     },
     "execution_count": 98,
     "metadata": {},
     "output_type": "execute_result"
    },
    {
     "data": {
      "image/png": "[encoded data removed]",
      "text/plain": [
       "<Figure size 432x288 with 1 Axes>"
      ]
     },
     "metadata": {},
     "output_type": "display_data"
    }
   ],
   "source": [
    "print(df3['RSSI (dBm)'].value_counts())\n",
    "df3['RSSI (dBm)'].value_counts().plot.bar()\n",
    "plt.title('For 3 meter - OpenThread - RSS')"
   ]
  },
  {
   "cell_type": "code",
   "execution_count": 99,
   "id": "bd60463e",
   "metadata": {},
   "outputs": [],
   "source": [
    "df1_ = pd.read_csv(r'/Users/edwincalderon/Desktop/M202A/ble_processed_data/logfile_1m_process.csv')\n",
    "df2_ = pd.read_csv(r'/Users/edwincalderon/Desktop/M202A/ble_processed_data/logfile_2m_process.csv')\n",
    "df3_ = pd.read_csv(r'/Users/edwincalderon/Desktop/M202A/ble_processed_data/logfile_3m_process.csv')"
   ]
  },
  {
   "cell_type": "code",
   "execution_count": 100,
   "id": "c7b75138",
   "metadata": {},
   "outputs": [
    {
     "name": "stdout",
     "output_type": "stream",
     "text": [
      "-68.75\n"
     ]
    },
    {
     "data": {
      "text/plain": [
       "array([-13.25, -15.  , -26.25, -26.5 , -44.5 , -39.25, -38.75, -52.25,\n",
       "       -51.25, -59.  , -51.5 , -61.75, -50.5 , -51.75, -52.5 , -65.  ,\n",
       "       -50.  , -65.25, -49.75, -62.  , -49.  , -50.75, -52.  , -65.5 ,\n",
       "       -53.5 , -66.  , -62.5 , -52.75, -54.25, -54.  , -61.25, -53.  ,\n",
       "       -63.75, -55.  , -64.5 , -53.75, -54.5 , -55.5 , -56.  , -64.75,\n",
       "       -57.75, -59.25, -62.25, -57.25, -58.  , -58.5 , -56.25, -56.75,\n",
       "       -60.5 , -57.5 , -55.75, -58.75, -58.25, -57.  , -61.5 , -62.75,\n",
       "       -56.5 , -59.5 , -66.25, -59.75, -68.25, -64.25, -55.25, -61.  ,\n",
       "       -54.75, -66.5 , -67.5 , -64.  , -63.  , -68.5 , -65.75, -67.  ,\n",
       "       -67.25, -63.25, -60.  , -66.75, -60.25, -68.75, -67.75, -63.5 ,\n",
       "       -60.75])"
      ]
     },
     "execution_count": 100,
     "metadata": {},
     "output_type": "execute_result"
    }
   ],
   "source": [
    "print(min(df1_['Measurement'].dropna().unique()))\n",
    "df1_['Measurement'].dropna().unique()"
   ]
  },
  {
   "cell_type": "code",
   "execution_count": 101,
   "id": "2ee8edff",
   "metadata": {},
   "outputs": [
    {
     "name": "stdout",
     "output_type": "stream",
     "text": [
      "For 1 meters\n",
      "count    1290.000000\n",
      "mean      -58.376357\n",
      "std         4.957306\n",
      "min       -68.750000\n",
      "25%       -61.750000\n",
      "50%       -57.250000\n",
      "75%       -56.250000\n",
      "max       -13.250000\n",
      "Name: Measurement, dtype: float64\n",
      "For 2 meters\n",
      "count    1215.000000\n",
      "mean      -64.320165\n",
      "std         5.286934\n",
      "min       -68.750000\n",
      "25%       -66.750000\n",
      "50%       -66.000000\n",
      "75%       -62.250000\n",
      "max         0.000000\n",
      "Name: Measurement, dtype: float64\n",
      "For 3 meters\n",
      "count    2118.000000\n",
      "mean      -72.382790\n",
      "std         7.133105\n",
      "min       -84.500000\n",
      "25%       -76.250000\n",
      "50%       -73.375000\n",
      "75%       -68.000000\n",
      "max         0.000000\n",
      "Name: Measurement, dtype: float64\n"
     ]
    }
   ],
   "source": [
    "print('For 1 meters')\n",
    "print(df1_['Measurement'].dropna().describe())\n",
    "print('For 2 meters')\n",
    "print(df2_['Measurement'].dropna().describe())\n",
    "print('For 3 meters')\n",
    "print(df3_['Measurement'].dropna().describe())"
   ]
  },
  {
   "cell_type": "code",
   "execution_count": 102,
   "id": "f5f8284a",
   "metadata": {},
   "outputs": [
    {
     "name": "stdout",
     "output_type": "stream",
     "text": [
      "-68.75\n"
     ]
    },
    {
     "data": {
      "text/plain": [
       "array([  0.  , -14.75, -17.25, -28.5 , -17.5 , -33.25, -34.25, -50.25,\n",
       "       -66.25, -51.  , -65.5 , -45.  , -66.75, -65.75, -60.25, -64.5 ,\n",
       "       -61.  , -65.25, -60.75, -67.25, -68.5 , -61.75, -61.5 , -66.5 ,\n",
       "       -67.5 , -68.  , -59.  , -66.  , -59.25, -57.75, -67.75, -60.5 ,\n",
       "       -67.  , -63.  , -65.  , -62.  , -63.75, -61.25, -59.5 , -59.75,\n",
       "       -57.  , -57.5 , -60.  , -62.25, -64.  , -58.5 , -62.75, -64.25,\n",
       "       -62.5 , -64.75, -68.75, -63.25, -68.25, -63.5 , -58.75])"
      ]
     },
     "execution_count": 102,
     "metadata": {},
     "output_type": "execute_result"
    }
   ],
   "source": [
    "print(min(df2_['Measurement'].dropna().unique()))\n",
    "df2_['Measurement'].dropna().unique()"
   ]
  },
  {
   "cell_type": "code",
   "execution_count": 103,
   "id": "8a3880ac",
   "metadata": {},
   "outputs": [
    {
     "name": "stdout",
     "output_type": "stream",
     "text": [
      "-84.5\n"
     ]
    },
    {
     "data": {
      "text/plain": [
       "array([  0.  , -17.25, -33.75, -17.75, -19.75, -50.5 , -37.25, -66.75,\n",
       "       -57.  , -74.25, -65.5 , -35.75, -53.5 , -74.5 , -66.  , -65.75,\n",
       "       -76.5 , -75.25, -74.  , -66.25, -73.5 , -74.75, -67.  , -68.  ,\n",
       "       -71.25, -70.25, -73.  , -67.5 , -75.5 , -75.75, -80.  , -78.25,\n",
       "       -65.  , -76.25, -75.  , -73.25, -67.25, -79.5 , -79.75, -84.25,\n",
       "       -73.75, -80.25, -76.  , -65.25, -64.75, -76.75, -78.75, -77.25,\n",
       "       -66.5 , -71.  , -77.5 , -72.75, -72.5 , -71.5 , -80.5 , -67.75,\n",
       "       -68.25, -72.  , -77.75, -77.  , -71.75, -68.5 , -79.  , -72.25,\n",
       "       -81.  , -68.75, -69.  , -78.  , -81.25, -83.25, -78.5 , -69.25,\n",
       "       -79.25, -82.  , -80.75, -82.5 , -69.75, -82.75, -70.75, -70.  ,\n",
       "       -83.  , -84.5 , -81.75, -81.5 , -69.5 , -83.75])"
      ]
     },
     "execution_count": 103,
     "metadata": {},
     "output_type": "execute_result"
    }
   ],
   "source": [
    "print(min(df3_['Measurement'].dropna().unique()))\n",
    "df3_['Measurement'].dropna().unique()"
   ]
  },
  {
   "cell_type": "code",
   "execution_count": 107,
   "id": "1b0e3a17",
   "metadata": {},
   "outputs": [
    {
     "name": "stdout",
     "output_type": "stream",
     "text": [
      "-56.25    96\n",
      "-56.00    79\n",
      "-56.50    74\n",
      "-56.75    70\n",
      "-57.25    65\n",
      "          ..\n",
      "-26.50     1\n",
      "-60.25     1\n",
      "-68.75     1\n",
      "-53.75     1\n",
      "-60.75     1\n",
      "Name: Measurement, Length: 81, dtype: int64\n"
     ]
    },
    {
     "data": {
      "text/plain": [
       "Text(0.5, 1.0, 'For 1 meters - BLE RSS')"
      ]
     },
     "execution_count": 107,
     "metadata": {},
     "output_type": "execute_result"
    },
    {
     "data": {
      "image/png": "[encoded data removed]",
      "text/plain": [
       "<Figure size 432x288 with 1 Axes>"
      ]
     },
     "metadata": {},
     "output_type": "display_data"
    }
   ],
   "source": [
    "print(df1_['Measurement'].value_counts())\n",
    "df1_['Measurement'].value_counts().plot.bar()\n",
    "plt.title('For 1 meters - BLE RSS')"
   ]
  },
  {
   "cell_type": "code",
   "execution_count": 108,
   "id": "0f31b2af",
   "metadata": {},
   "outputs": [
    {
     "name": "stdout",
     "output_type": "stream",
     "text": [
      "-66.75    110\n",
      "-66.50     86\n",
      "-67.00     84\n",
      "-66.25     81\n",
      "-67.25     74\n",
      "-65.75     63\n",
      "-66.00     57\n",
      "-67.50     49\n",
      "-65.25     43\n",
      "-61.25     33\n",
      "-59.50     31\n",
      "-62.25     31\n",
      "-62.00     30\n",
      "-68.00     30\n",
      "-65.50     27\n",
      "-60.75     26\n",
      "-60.50     23\n",
      "-65.00     22\n",
      "-61.75     21\n",
      "-67.75     21\n",
      "-60.25     20\n",
      "-61.50     19\n",
      "-63.00     16\n",
      "-68.50     14\n",
      "-61.00     14\n",
      "-59.75     14\n",
      "-64.25     14\n",
      "-62.50     14\n",
      "-62.75     13\n",
      "-59.25     13\n",
      "-59.00     12\n",
      "-68.75     12\n",
      "-68.25     11\n",
      "-64.00     11\n",
      "-64.50     10\n",
      "-58.50      9\n",
      "-64.75      7\n",
      "-63.50      7\n",
      "-60.00      6\n",
      "-63.25      5\n",
      "-28.50      4\n",
      "-57.00      4\n",
      "-63.75      3\n",
      "-57.75      3\n",
      "-57.50      3\n",
      " 0.00       2\n",
      "-45.00      2\n",
      "-51.00      2\n",
      "-34.25      2\n",
      "-58.75      2\n",
      "-14.75      1\n",
      "-50.25      1\n",
      "-33.25      1\n",
      "-17.50      1\n",
      "-17.25      1\n",
      "Name: Measurement, dtype: int64\n"
     ]
    },
    {
     "data": {
      "text/plain": [
       "Text(0.5, 1.0, 'For 2 meters - BLE RSS')"
      ]
     },
     "execution_count": 108,
     "metadata": {},
     "output_type": "execute_result"
    },
    {
     "data": {
      "image/png": "[encoded data removed]",
      "text/plain": [
       "<Figure size 432x288 with 1 Axes>"
      ]
     },
     "metadata": {},
     "output_type": "display_data"
    }
   ],
   "source": [
    "print(df2_['Measurement'].value_counts())\n",
    "df2_['Measurement'].value_counts().plot.bar()\n",
    "plt.title('For 2 meters - BLE RSS')"
   ]
  },
  {
   "cell_type": "code",
   "execution_count": 109,
   "id": "524bc08c",
   "metadata": {},
   "outputs": [
    {
     "name": "stdout",
     "output_type": "stream",
     "text": [
      "-68.00    82\n",
      "-75.25    75\n",
      "-76.00    73\n",
      "-67.25    66\n",
      "-67.00    66\n",
      "          ..\n",
      "-19.75     1\n",
      "-83.00     1\n",
      "-84.50     1\n",
      "-81.75     1\n",
      "-83.75     1\n",
      "Name: Measurement, Length: 86, dtype: int64\n"
     ]
    },
    {
     "data": {
      "text/plain": [
       "Text(0.5, 1.0, 'For 3 meters - BLE RSS')"
      ]
     },
     "execution_count": 109,
     "metadata": {},
     "output_type": "execute_result"
    },
    {
     "data": {
      "image/png": "[encoded data removed]",
      "text/plain": [
       "<Figure size 432x288 with 1 Axes>"
      ]
     },
     "metadata": {},
     "output_type": "display_data"
    }
   ],
   "source": [
    "print(df3_['Measurement'].value_counts())\n",
    "df3_['Measurement'].value_counts().plot.bar()\n",
    "plt.title('For 3 meters - BLE RSS')"
   ]
  },
  {
   "cell_type": "code",
   "execution_count": null,
   "id": "85835497",
   "metadata": {},
   "outputs": [],
   "source": []
  }
 ],
 "metadata": {
  "kernelspec": {
   "display_name": "Python 3 (ipykernel)",
   "language": "python",
   "name": "python3"
  },
  "language_info": {
   "codemirror_mode": {
    "name": "ipython",
    "version": 3
   },
   "file_extension": ".py",
   "mimetype": "text/x-python",
   "name": "python",
   "nbconvert_exporter": "python",
   "pygments_lexer": "ipython3",
   "version": "3.9.7"
  }
 },
 "nbformat": 4,
 "nbformat_minor": 5
}
