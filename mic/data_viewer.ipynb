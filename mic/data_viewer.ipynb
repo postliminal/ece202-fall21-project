{
 "cells": [
  {
   "cell_type": "code",
   "execution_count": null,
   "metadata": {},
   "outputs": [],
   "source": [
    "import serial"
   ]
  }
 ],
 "metadata": {
  "interpreter": {
   "hash": "e01da99e2a9268e7526e9e02427603de7607b06fd3a18449cfa308f6716197ad"
  },
  "kernelspec": {
   "display_name": "Python 3.8.5 64-bit ('base': conda)",
   "name": "python3"
  },
  "language_info": {
   "name": "python",
   "version": "3.8.5"
  },
  "orig_nbformat": 4
 },
 "nbformat": 4,
 "nbformat_minor": 2
}
